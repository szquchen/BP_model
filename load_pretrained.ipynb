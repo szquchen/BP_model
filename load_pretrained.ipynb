{
 "cells": [
  {
   "cell_type": "code",
   "execution_count": 2,
   "id": "0f592267-7c58-4c8e-be22-87041357fd74",
   "metadata": {},
   "outputs": [
    {
     "name": "stderr",
     "output_type": "stream",
     "text": [
      "C:\\Users\\quche\\anaconda3\\envs\\ml\\lib\\site-packages\\pymatgen\\core\\__init__.py:49: UserWarning: Error loading .pmgrc.yaml: [Errno 2] No such file or directory: 'C:\\\\Users\\\\quche\\\\.pmgrc.yaml'. You may need to reconfigure your yaml file.\n",
      "  warnings.warn(f\"Error loading .pmgrc.yaml: {ex}. You may need to reconfigure your yaml file.\")\n"
     ]
    }
   ],
   "source": [
    "import pandas as pd\n",
    "import tensorflow as tf\n",
    "import numpy as np\n",
    "import tensorflow.keras.backend as K\n",
    "from rdkit import Chem\n",
    "from tensorflow.keras.callbacks import EarlyStopping\n",
    "from megnet.data.molecule import MolecularGraph\n",
    "from megnet.models import MEGNetModel\n",
    "from megnet.data.graph import GaussianDistance\n",
    "from sklearn.preprocessing import StandardScaler"
   ]
  },
  {
   "cell_type": "markdown",
   "id": "225ee6df-ae0e-4d37-9969-46d3b21f6619",
   "metadata": {},
   "source": [
    "## Load the original dataset and compute the mean and variance of the original data set, in order to transform the predicted value back to Kelvin"
   ]
  },
  {
   "cell_type": "code",
   "execution_count": 3,
   "id": "1cd0ae67-94a5-4e9e-9687-ff721bbf6a13",
   "metadata": {},
   "outputs": [],
   "source": [
    "data = pd.read_csv('data/bp_new3.csv', delim_whitespace=True)\n",
    "y = data['bp'].to_numpy().reshape((-1,1))\n",
    "scaler = StandardScaler().fit(y)\n",
    "y = scaler.transform(y)"
   ]
  },
  {
   "cell_type": "markdown",
   "id": "513fd82a-3ee5-4e68-ba84-037cc331c61a",
   "metadata": {},
   "source": [
    "## Create the model and load saved weights"
   ]
  },
  {
   "cell_type": "code",
   "execution_count": 4,
   "id": "d787b320-79bd-45bf-9671-1dea267e7307",
   "metadata": {},
   "outputs": [
    {
     "data": {
      "text/plain": [
       "<tensorflow.python.training.tracking.util.CheckpointLoadStatus at 0x1d703fe9c10>"
      ]
     },
     "execution_count": 4,
     "metadata": {},
     "output_type": "execute_result"
    }
   ],
   "source": [
    "graph = MolecularGraph(atom_features=['element', 'hybridization', 'formal_charge'],\n",
    "                       bond_features=['bond_type', 'same_ring', 'graph_distance'],\n",
    "                       known_elements=['C', 'H', 'O', 'N', 'F', 'Si', 'S', 'Cl', 'Br', 'P', 'I'],\n",
    "                       cutoff = 5)\n",
    "\n",
    "model = MEGNetModel(nfeat_edge=7, nfeat_global=3, nfeat_node=18, nblocks=3, learning_rate=2e-4,\n",
    "                    n1=64, n2=32, n3=16, npass=2, ntarget=1, act='relu', final_act=None,\n",
    "                    graph_converter=graph, loss=\"mae\")\n",
    "\n",
    "model.load_weights('./checkpoints/bp_model_weights')"
   ]
  },
  {
   "cell_type": "markdown",
   "id": "f5b2933e-0236-425f-9557-c95712e15a96",
   "metadata": {},
   "source": [
    "## Use the model to make predictions"
   ]
  },
  {
   "cell_type": "code",
   "execution_count": 5,
   "id": "c5d01c8b-c27f-43ef-8dd8-ed086b1180c2",
   "metadata": {},
   "outputs": [
    {
     "name": "stdout",
     "output_type": "stream",
     "text": [
      "Predicted Boiling Point (K):  373.79205\n"
     ]
    }
   ],
   "source": [
    "mol = Chem.MolFromSmiles(\"CCCO\")\n",
    "bp = model.predict_structure(mol)\n",
    "y_pred = np.array(bp).reshape(-1,1)\n",
    "y_pred = scaler.inverse_transform(y_pred)\n",
    "print(\"Predicted Boiling Point (K): \", y_pred[0,0])"
   ]
  },
  {
   "cell_type": "code",
   "execution_count": null,
   "id": "9fc848a6-7b1c-4be9-9f38-7d25046effd9",
   "metadata": {},
   "outputs": [],
   "source": []
  }
 ],
 "metadata": {
  "kernelspec": {
   "display_name": "Python (ml)",
   "language": "python",
   "name": "ml"
  },
  "language_info": {
   "codemirror_mode": {
    "name": "ipython",
    "version": 3
   },
   "file_extension": ".py",
   "mimetype": "text/x-python",
   "name": "python",
   "nbconvert_exporter": "python",
   "pygments_lexer": "ipython3",
   "version": "3.9.10"
  }
 },
 "nbformat": 4,
 "nbformat_minor": 5
}
